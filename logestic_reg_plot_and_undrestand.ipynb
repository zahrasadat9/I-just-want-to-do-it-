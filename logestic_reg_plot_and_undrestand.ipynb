{
  "nbformat": 4,
  "nbformat_minor": 0,
  "metadata": {
    "colab": {
      "provenance": [],
      "authorship_tag": "ABX9TyNAUJyPYiZoQFCT+gJCbuN1",
      "include_colab_link": true
    },
    "kernelspec": {
      "name": "python3",
      "display_name": "Python 3"
    },
    "language_info": {
      "name": "python"
    }
  },
  "cells": [
    {
      "cell_type": "markdown",
      "metadata": {
        "id": "view-in-github",
        "colab_type": "text"
      },
      "source": [
        "<a href=\"https://colab.research.google.com/github/zahrasadat9/I-just-want-to-do-it-/blob/main/logestic_reg_plot_and_undrestand.ipynb\" target=\"_parent\"><img src=\"https://colab.research.google.com/assets/colab-badge.svg\" alt=\"Open In Colab\"/></a>"
      ]
    },
    {
      "cell_type": "code",
      "source": [
        "from sklearn.linear_model import LogisticRegression\n",
        "import matplotlib.pyplot as plt\n",
        "import numpy as np\n",
        "\n",
        "# after age 12 everyone is dead :)\n",
        "age=np.array( [12,2,12,3,4,5,6,7,8,9,10,20,30,40,60] )\n",
        "survived=np.array( [1,1,1,1,1,1,1,1,1,1,1,0,0,0,0] )\n",
        "\n",
        "logreg= LogisticRegression()\n",
        "logreg.fit(age.reshape(-1,1),survived.reshape(-1,1))\n",
        "\n",
        "X_new = np.linspace(0, 70, 1000).reshape(-1, 1) # reshape to get a column vector \n",
        "y_proba = logreg.predict_proba(X_new) \n",
        "\n",
        "# find where the prob get to .5 for the first time\n",
        "decision_boundary = X_new[y_proba[:, 0] >= 0.5][0, 0]\n",
        "\n",
        "plt.plot(X_new, y_proba[:, 0], \"b--\", linewidth=2, label=\"ones\");\n",
        "plt.plot(X_new, y_proba[:, 1], \"g-\", linewidth=2, label=\"zeroes\");\n",
        "\n",
        "# vertical line\n",
        "plt.plot([decision_boundary, decision_boundary], [0, 1], \"k:\", linewidth=2, label=\"Decision boundary\");\n",
        "plt.legend(loc='best')\n"
      ],
      "metadata": {
        "id": "xgbxFmScWpNa",
        "colab": {
          "base_uri": "https://localhost:8080/",
          "height": 337
        },
        "outputId": "db268329-84cc-40f3-e846-344807e1a5f5"
      },
      "execution_count": 6,
      "outputs": [
        {
          "output_type": "stream",
          "name": "stderr",
          "text": [
            "/usr/local/lib/python3.8/dist-packages/sklearn/utils/validation.py:1143: DataConversionWarning: A column-vector y was passed when a 1d array was expected. Please change the shape of y to (n_samples, ), for example using ravel().\n",
            "  y = column_or_1d(y, warn=True)\n"
          ]
        },
        {
          "output_type": "execute_result",
          "data": {
            "text/plain": [
              "<matplotlib.legend.Legend at 0x7f5d51633c10>"
            ]
          },
          "metadata": {},
          "execution_count": 6
        },
        {
          "output_type": "display_data",
          "data": {
            "text/plain": [
              "<Figure size 432x288 with 1 Axes>"
            ],
            "image/png": "[encoded data removed]"
          },
          "metadata": {
            "needs_background": "light"
          }
        }
      ]
    },
    {
      "cell_type": "code",
      "source": [],
      "metadata": {
        "id": "pMR0k4k9UXUZ"
      },
      "execution_count": null,
      "outputs": []
    }
  ]
}